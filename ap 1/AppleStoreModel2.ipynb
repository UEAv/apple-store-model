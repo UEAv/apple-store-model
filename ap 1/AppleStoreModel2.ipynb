{
 "cells": [
  {
   "cell_type": "markdown",
   "id": "a2ae4434",
   "metadata": {},
   "source": [
    "## import library"
   ]
  },
  {
   "cell_type": "code",
   "execution_count": null,
   "id": "56906de0",
   "metadata": {},
   "outputs": [],
   "source": [
    "import tensorflow as tf\n",
    "import numpy as np"
   ]
  },
  {
   "cell_type": "markdown",
   "id": "8fd18786",
   "metadata": {},
   "source": [
    "## load data"
   ]
  },
  {
   "cell_type": "code",
   "execution_count": 11,
   "id": "0eda7244",
   "metadata": {},
   "outputs": [],
   "source": [
    "data = np.load('AppleStoreTrain.npz')\n",
    "train_input = data['inputs'].astype(np.float64)\n",
    "train_target = data['target'].astype(np.int32)"
   ]
  },
  {
   "cell_type": "code",
   "execution_count": 12,
   "id": "9f99d892",
   "metadata": {},
   "outputs": [],
   "source": [
    "data = np.load('AppleStoreTest.npz')\n",
    "test_input = data['inputs'].astype(np.float64)\n",
    "test_target = data['target'].astype(np.int32)"
   ]
  },
  {
   "cell_type": "code",
   "execution_count": 13,
   "id": "93eae287",
   "metadata": {},
   "outputs": [],
   "source": [
    "data = np.load('AppleStoreValidation.npz')\n",
    "validation_input = data['inputs'].astype(np.float64)\n",
    "validation_target = data['target'].astype(np.int32)"
   ]
  },
  {
   "cell_type": "markdown",
   "id": "59ba1697",
   "metadata": {},
   "source": [
    "## creating the model"
   ]
  },
  {
   "cell_type": "code",
   "execution_count": 58,
   "id": "e40dac20",
   "metadata": {},
   "outputs": [],
   "source": [
    "input_size = 7\n",
    "output_size = 1\n",
    "hiddenLayer_size = 50"
   ]
  },
  {
   "cell_type": "code",
   "execution_count": 75,
   "id": "bb13d21d",
   "metadata": {},
   "outputs": [],
   "source": [
    "model = tf.keras.Sequential([\n",
    "    tf.keras.layers.Dense(hiddenLayer_size,\n",
    "                         activation = 'relu'),\n",
    "        tf.keras.layers.Dense(hiddenLayer_size,\n",
    "                         activation = 'relu'),\n",
    "        tf.keras.layers.Dense(hiddenLayer_size,\n",
    "                         activation = 'relu'),\n",
    "            tf.keras.layers.Dense(hiddenLayer_size,\n",
    "                         activation = 'relu'),\n",
    "    tf.keras.layers.Dense(output_size,\n",
    "                        activation ='sigmoid')\n",
    "])"
   ]
  },
  {
   "cell_type": "code",
   "execution_count": 76,
   "id": "927c99e2",
   "metadata": {},
   "outputs": [],
   "source": [
    "model.compile(optimizer = 'adam' , loss = 'binary_crossentropy', metrics = ['accuracy'])"
   ]
  },
  {
   "cell_type": "code",
   "execution_count": 91,
   "id": "82d38479",
   "metadata": {},
   "outputs": [],
   "source": [
    "batch_size = 2000\n",
    "max_epochs = 100\n",
    "early_stopping = tf.keras.callbacks.EarlyStopping(patience = 2)"
   ]
  },
  {
   "cell_type": "code",
   "execution_count": 92,
   "id": "c32dbf60",
   "metadata": {},
   "outputs": [
    {
     "name": "stdout",
     "output_type": "stream",
     "text": [
      "Epoch 1/100\n",
      "2/2 - 0s - loss: 0.2109 - accuracy: 0.9075 - val_loss: 0.3075 - val_accuracy: 0.8575 - 125ms/epoch - 62ms/step\n",
      "Epoch 2/100\n",
      "2/2 - 0s - loss: 0.2123 - accuracy: 0.9106 - val_loss: 0.3081 - val_accuracy: 0.8675 - 75ms/epoch - 38ms/step\n",
      "Epoch 3/100\n",
      "2/2 - 0s - loss: 0.2114 - accuracy: 0.9103 - val_loss: 0.3032 - val_accuracy: 0.8625 - 72ms/epoch - 36ms/step\n",
      "Epoch 4/100\n",
      "2/2 - 0s - loss: 0.2090 - accuracy: 0.9084 - val_loss: 0.2980 - val_accuracy: 0.8700 - 72ms/epoch - 36ms/step\n",
      "Epoch 5/100\n",
      "2/2 - 0s - loss: 0.2076 - accuracy: 0.9097 - val_loss: 0.2956 - val_accuracy: 0.8650 - 74ms/epoch - 37ms/step\n",
      "Epoch 6/100\n",
      "2/2 - 0s - loss: 0.2081 - accuracy: 0.9091 - val_loss: 0.2947 - val_accuracy: 0.8625 - 72ms/epoch - 36ms/step\n",
      "Epoch 7/100\n",
      "2/2 - 0s - loss: 0.2077 - accuracy: 0.9103 - val_loss: 0.2945 - val_accuracy: 0.8675 - 73ms/epoch - 36ms/step\n",
      "Epoch 8/100\n",
      "2/2 - 0s - loss: 0.2069 - accuracy: 0.9087 - val_loss: 0.2952 - val_accuracy: 0.8675 - 74ms/epoch - 37ms/step\n",
      "Epoch 9/100\n",
      "2/2 - 0s - loss: 0.2064 - accuracy: 0.9100 - val_loss: 0.2964 - val_accuracy: 0.8725 - 70ms/epoch - 35ms/step\n"
     ]
    },
    {
     "data": {
      "text/plain": [
       "<keras.src.callbacks.History at 0x1d07656cfd0>"
      ]
     },
     "execution_count": 92,
     "metadata": {},
     "output_type": "execute_result"
    }
   ],
   "source": [
    "model.fit(\n",
    "train_input,\n",
    "    train_target,\n",
    "    batch_size = batch_size,\n",
    "    epochs = max_epochs,\n",
    "    callbacks = [early_stopping],\n",
    "    validation_data = (validation_input, validation_target),\n",
    "    verbose = 2\n",
    ")"
   ]
  },
  {
   "cell_type": "code",
   "execution_count": 94,
   "id": "61af5912",
   "metadata": {},
   "outputs": [
    {
     "name": "stdout",
     "output_type": "stream",
     "text": [
      "13/13 [==============================] - 0s 3ms/step - loss: 0.3150 - accuracy: 0.8725\n",
      "\n",
      " Test loss: 0.32. Test Accuracy 87.25%\n"
     ]
    }
   ],
   "source": [
    "test_loss, test_accuracy = model.evaluate(test_input, test_target)\n",
    "print('\\n Test loss: {0:.2f}. Test Accuracy {1:.2f}%'.format(test_loss, test_accuracy*100))"
   ]
  },
  {
   "cell_type": "code",
   "execution_count": null,
   "id": "523cb227",
   "metadata": {},
   "outputs": [],
   "source": []
  }
 ],
 "metadata": {
  "kernelspec": {
   "display_name": "Python 3 (ipykernel)",
   "language": "python",
   "name": "python3"
  },
  "language_info": {
   "codemirror_mode": {
    "name": "ipython",
    "version": 3
   },
   "file_extension": ".py",
   "mimetype": "text/x-python",
   "name": "python",
   "nbconvert_exporter": "python",
   "pygments_lexer": "ipython3",
   "version": "3.9.18"
  }
 },
 "nbformat": 4,
 "nbformat_minor": 5
}
