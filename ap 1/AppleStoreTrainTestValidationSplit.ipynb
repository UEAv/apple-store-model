{
 "cells": [
  {
   "cell_type": "markdown",
   "id": "28e6a277",
   "metadata": {},
   "source": [
    "## Import Libraries"
   ]
  },
  {
   "cell_type": "code",
   "execution_count": null,
   "id": "2e5e87ba",
   "metadata": {},
   "outputs": [],
   "source": [
    "import numpy as np\n",
    "import pandas as pd\n",
    "import tensorflow"
   ]
  },
  {
   "cell_type": "markdown",
   "id": "6517004d",
   "metadata": {},
   "source": [
    "## Load data"
   ]
  },
  {
   "cell_type": "code",
   "execution_count": 12,
   "id": "be2413d1",
   "metadata": {},
   "outputs": [],
   "source": [
    "data = np.loadtxt('AppleStoreClearned.csv', delimiter = ',')"
   ]
  },
  {
   "cell_type": "code",
   "execution_count": 13,
   "id": "2030c1df",
   "metadata": {},
   "outputs": [
    {
     "data": {
      "text/plain": [
       "array([[-3.97004852, -2.51233638,  5.34632961, ...,  0.3298398 ,\n",
       "        -0.49159048,  1.        ],\n",
       "       [-1.19521719, -2.83925653,  3.66405876, ...,  0.86753008,\n",
       "        -0.72280937,  1.        ],\n",
       "       [-0.29202386, -1.35128199, -1.73842916, ..., -0.03803333,\n",
       "         2.62163647,  0.        ],\n",
       "       ...,\n",
       "       [-2.6345153 , -2.13824672, -2.44046129, ...,  4.76385918,\n",
       "        -1.33461139,  0.        ],\n",
       "       [-4.00800374, -1.77933711,  2.36639697, ...,  0.21448838,\n",
       "        -2.22971981,  1.        ],\n",
       "       [ 0.27853965, -1.71550503,  0.12121725, ..., -0.77657147,\n",
       "         1.59979646,  1.        ]])"
      ]
     },
     "execution_count": 13,
     "metadata": {},
     "output_type": "execute_result"
    }
   ],
   "source": [
    "data"
   ]
  },
  {
   "cell_type": "markdown",
   "id": "0f21d826",
   "metadata": {},
   "source": [
    "##  declearing independent variable"
   ]
  },
  {
   "cell_type": "code",
   "execution_count": 24,
   "id": "a4aa454f",
   "metadata": {},
   "outputs": [
    {
     "data": {
      "text/plain": [
       "array([[-2.51233638,  5.34632961, -1.01200871,  1.84490036,  0.3298398 ,\n",
       "        -0.49159048],\n",
       "       [-2.83925653,  3.66405876,  1.58823231,  0.8532858 ,  0.86753008,\n",
       "        -0.72280937],\n",
       "       [-1.35128199, -1.73842916, -0.34261593,  2.83863551, -0.03803333,\n",
       "         2.62163647],\n",
       "       ...,\n",
       "       [-2.13824672, -2.44046129,  0.65722289,  2.19970859,  4.76385918,\n",
       "        -1.33461139],\n",
       "       [-1.77933711,  2.36639697, -0.20032937,  2.16143512,  0.21448838,\n",
       "        -2.22971981],\n",
       "       [-1.71550503,  0.12121725, -1.15407476,  1.2666774 , -0.77657147,\n",
       "         1.59979646]])"
      ]
     },
     "execution_count": 24,
     "metadata": {},
     "output_type": "execute_result"
    }
   ],
   "source": [
    "d_input = data[:,1:-1]\n",
    "d_input"
   ]
  },
  {
   "cell_type": "markdown",
   "id": "77230d90",
   "metadata": {},
   "source": [
    "## declearing dependent variable"
   ]
  },
  {
   "cell_type": "code",
   "execution_count": 25,
   "id": "4ec63150",
   "metadata": {},
   "outputs": [
    {
     "data": {
      "text/plain": [
       "array([1., 1., 0., ..., 0., 1., 1.])"
      ]
     },
     "execution_count": 25,
     "metadata": {},
     "output_type": "execute_result"
    }
   ],
   "source": [
    "d_terget = data[:,-1]\n",
    "d_terget"
   ]
  },
  {
   "cell_type": "markdown",
   "id": "8db211e5",
   "metadata": {},
   "source": [
    "## spliting data into test, train and validation"
   ]
  },
  {
   "cell_type": "code",
   "execution_count": 26,
   "id": "cb9a9c03",
   "metadata": {},
   "outputs": [],
   "source": [
    "sample_count = data.shape[0]\n",
    "train_sample_count = int(0.8*sample_count) \n",
    "validation_sample_count = int(0.1*sample_count)\n",
    "test_sample_count = sample_count-train_sample_count-validation_sample_count"
   ]
  },
  {
   "cell_type": "code",
   "execution_count": 27,
   "id": "5385e17e",
   "metadata": {},
   "outputs": [],
   "source": [
    "train_input = d_input[:train_sample_count]\n",
    "train_terget = d_terget[:train_sample_count]"
   ]
  },
  {
   "cell_type": "code",
   "execution_count": 30,
   "id": "741ffbec",
   "metadata": {},
   "outputs": [],
   "source": [
    "validation_input = d_input[train_sample_count:train_sample_count+validation_sample_count]\n",
    "validation_terget = d_terget[train_sample_count:train_sample_count+validation_sample_count]"
   ]
  },
  {
   "cell_type": "code",
   "execution_count": 32,
   "id": "d18c3046",
   "metadata": {},
   "outputs": [],
   "source": [
    "test_input = d_input[train_sample_count+validation_sample_count:]\n",
    "test_terget = d_terget[train_sample_count+validation_sample_count:]"
   ]
  },
  {
   "cell_type": "markdown",
   "id": "7bf6545a",
   "metadata": {},
   "source": [
    "## saving the splited data "
   ]
  },
  {
   "cell_type": "code",
   "execution_count": 34,
   "id": "956622f6",
   "metadata": {},
   "outputs": [],
   "source": [
    "np.savez('AppleStoreTrain', inputs = train_input, target = train_terget)\n",
    "np.savez('AppleStoreTest', inputs = test_input, target = test_terget)\n",
    "np.savez('AppleStoreValidation', inputs = validation_input, target = validation_terget)\n"
   ]
  },
  {
   "cell_type": "code",
   "execution_count": null,
   "id": "31908388",
   "metadata": {},
   "outputs": [],
   "source": []
  }
 ],
 "metadata": {
  "kernelspec": {
   "display_name": "Python 3 (ipykernel)",
   "language": "python",
   "name": "python3"
  },
  "language_info": {
   "codemirror_mode": {
    "name": "ipython",
    "version": 3
   },
   "file_extension": ".py",
   "mimetype": "text/x-python",
   "name": "python",
   "nbconvert_exporter": "python",
   "pygments_lexer": "ipython3",
   "version": "3.9.18"
  }
 },
 "nbformat": 4,
 "nbformat_minor": 5
}
